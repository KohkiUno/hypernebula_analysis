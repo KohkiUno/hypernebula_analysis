{
 "cells": [
  {
   "cell_type": "markdown",
   "id": "bf3b203c-86a8-4cbd-ab56-753c689e1f0c",
   "metadata": {},
   "source": [
    "# BH/NS Bianry Sampling from the COMPAS Dataset\n",
    "\n",
    "## COMPAS\n",
    "* HP (https://compas.science/)\n",
    "* GitHub (https://compas.readthedocs.io/en/latest/)\n",
    "* Patameter List (https://compas.readthedocs.io/en/latest/pages/User%20guide/COMPAS%20output/standard-logfiles-record-specification.html)\n",
    "    * Stellar Properties (https://compas.readthedocs.io/en/latest/pages/User%20guide/COMPAS%20output/standard-logfiles-record-specification-stellar.html)\n",
    "    * Binary Properties (https://compas.readthedocs.io/en/latest/pages/User%20guide/COMPAS%20output/standard-logfiles-record-specification-binary.html)"
   ]
  },
  {
   "cell_type": "code",
   "execution_count": 1,
   "id": "e44039d4-7b38-439e-b4bc-0780ff1538a7",
   "metadata": {
    "tags": []
   },
   "outputs": [],
   "source": [
    "import numpy as np\n",
    "import pickle\n",
    "import sys\n",
    "import h5py as h5\n",
    "from astropy.table import  unique, vstack, Table, Column, join"
   ]
  },
  {
   "cell_type": "markdown",
   "id": "653d6bc8-be82-465a-93cd-a26620c7d527",
   "metadata": {},
   "source": [
    "## Constant Parameters"
   ]
  },
  {
   "cell_type": "code",
   "execution_count": 11,
   "id": "3796e024-0c81-45c0-9864-41a52bc6f3bb",
   "metadata": {
    "tags": []
   },
   "outputs": [],
   "source": [
    "# physical constants\n",
    "G = 6.67428e-8 # Gravitational Constant (dyn cm^2 / g^2)\n",
    "c = 2.99792458e10 # Light Speed (cm/s)\n",
    "\n",
    "# mass [g]\n",
    "mp =  1.673e-24 # Proton Mass\n",
    "me = 9.1093837015e-28 # Electron Mass\n",
    " \n",
    "# solar quantities\n",
    "sigma = 5.67e-5 #Stefan-Boltzmann Constant (erg/cm^2/K^4/s)\n",
    "Msun = 1.99e33 # Solar Mass [g]\n",
    "Lsun = 3.839e33 # Solar Luminosity [erg/s]\n",
    "Rsun = 6.955e10 # Solar Radius [cm]\n",
    "Tsun = (Lsun / (4*np.pi*Rsun**2*sigma))**0.25 # Solar Photospheric Temperature [K]\n",
    "Zsun = 0.014 # Solar Metallicity\n",
    "\n",
    "# time [s]\n",
    "hr = 3600.0 # Hour\n",
    "day = 24.0*hr # Day\n",
    "yr =  365.25*day # Year\n",
    "Myr = 1e6*yr # Mega Year\n",
    "Gyr = 1e9*yr # Giga Year\n",
    "\n",
    "# distance [cm]\n",
    "pc = 3.086e18 # Parsec\n",
    "Mpc = 1e6*pc # Mega Parsec\n",
    "Gpc = 1e9*pc # Giga Parsec\n",
    "\n",
    "q = 4.80320425e-10 \n",
    "r_e = (q**2/(me*c**2))\n",
    "sigma_T = (8.*np.pi/3.) * r_e**2\n",
    "\n",
    "# frequency [Hz]\n",
    "MHz = 1e6 # Mega Hertz\n",
    "GHz = 1e9 # Giga Hertz\n",
    "\n",
    "# radiation [erg/s/cm^2/Hz]\n",
    "Jy = 1e-23 # Jansky\n",
    "mJy = 1e-6 * Jy # Milli Jansky\n",
    "uJy = 1e-9 * Jy # Micro Jansky"
   ]
  },
  {
   "cell_type": "markdown",
   "id": "67cc1b28-8d40-459b-b8b3-a001fe7f58b0",
   "metadata": {},
   "source": [
    "## Path Setting"
   ]
  },
  {
   "cell_type": "code",
   "execution_count": 3,
   "id": "3aaae659-bb0a-419c-ab92-5153d733fe4a",
   "metadata": {
    "tags": []
   },
   "outputs": [],
   "source": [
    "COMPAS_result_dir = '/home/jovyan/COMPAS_02.35.02_N1e7_Fiducial_AllDCO_AIS/'\n",
    "pathToData = COMPAS_result_dir+'MainRun/COMPAS_Output_wWeights.h5'\n",
    "\n",
    "# Read data and put in astropy table\n",
    "File        = h5.File(pathToData ,'r')\n",
    "\n",
    "SYS_keys  = ['SEED']\n",
    "             # , 'mixture_weight', 'Mass@ZAMS(1)', 'Mass@ZAMS(2)', 'Metallicity@ZAMS(1)', 'CE_Event_Counter', \n",
    "             # 'Merger', 'Optimistic_CE', 'Immediate_RLOF>CE']\n",
    "RLOF_keys = ['SEED', \n",
    "             'Mass(1)<MT', 'Mass(1)>MT', 'Mass(2)<MT', 'Mass(2)>MT', \n",
    "             'Stellar_Type(1)<MT', 'Stellar_Type(1)>MT', 'Stellar_Type(2)<MT', 'Stellar_Type(2)>MT', \n",
    "             'Luminosity(1)', 'Luminosity(2)', 'Teff(1)', 'Teff(2)', \n",
    "             'Radius(1)<MT', 'Radius(2)<MT', 'Radius(1)>MT', 'Radius(2)>MT',\n",
    "             'SemiMajorAxis<MT', 'SemiMajorAxis>MT', 'Time<MT', 'Time>MT', \n",
    "             'CEE>MT', 'MT_Event_Counter']\n",
    "CE_keys   = ['SEED', 'CE_Event_Counter', 'Merger'] \n",
    "\n",
    "SYS = Table()\n",
    "for key in SYS_keys:\n",
    "    SYS[key] = File['BSE_System_Parameters'][key][()]\n",
    "\n",
    "RLOF = Table()\n",
    "for key in RLOF_keys:\n",
    "    RLOF[key] = File['BSE_RLOF'][key][()]\n",
    "\n",
    "CE = Table()\n",
    "for key in CE_keys:\n",
    "    CE[key] = File['BSE_Common_Envelopes'][key][()]\n",
    "    \n",
    "File.close()"
   ]
  },
  {
   "cell_type": "markdown",
   "id": "6baf5c6e-9f73-4752-8c5a-64263240b8fd",
   "metadata": {},
   "source": [
    "## Select BH or NS binary\n",
    "\n",
    "### Stellar Types (see https://ui.adsabs.harvard.edu/abs/2000MNRAS.315..543H/abstract)\n",
    "* 0: Main Sequence (MS) M < 0.7Msun or fully convective\n",
    "* 1: MS M > 0.7Msun\n",
    "* 2: Hertzsprung Gap (HG)\n",
    "* 3: First Giant Branch\n",
    "* 4: Core Helium Burning (CHeB)\n",
    "* 5: Early Asymptotic Giant Branch (EAGB)\n",
    "* 6: Thermally Pulsing AGB\n",
    "* 7: Nakid He Star\n",
    "* 8: Nakid He Star Hertzsprung Gap\n",
    "* 9: Nakid He Star Giant Branch\n",
    "* 10: He White Dwarf (He WD)\n",
    "* 11: C/O WD\n",
    "* 12: O/Ne WD\n",
    "* 13: Neutron Star (NS)\n",
    "* 14: Black Hole (BH)\n",
    "* 15: massless remnant"
   ]
  },
  {
   "cell_type": "code",
   "execution_count": 4,
   "id": "22484911-03ca-404f-ba5e-4003ab335566",
   "metadata": {
    "tags": []
   },
   "outputs": [],
   "source": [
    "RLOF_BH_bool = ((np.logical_and(RLOF['Stellar_Type(1)<MT'] == 14, RLOF['Stellar_Type(2)>MT'] < 13)) |\n",
    "                (np.logical_and(RLOF['Stellar_Type(2)<MT'] == 14, RLOF['Stellar_Type(1)>MT'] < 13)))\n",
    "\n",
    "RLOF_NS_bool = ((np.logical_and(RLOF['Stellar_Type(1)<MT'] == 13, RLOF['Stellar_Type(2)>MT'] < 13)) |\n",
    "                (np.logical_and(RLOF['Stellar_Type(2)<MT'] == 13, RLOF['Stellar_Type(1)>MT'] < 13)))\n",
    "\n",
    "RLOF_BH = RLOF[RLOF_BH_bool]\n",
    "RLOF_NS = RLOF[RLOF_NS_bool]"
   ]
  },
  {
   "cell_type": "markdown",
   "id": "58fcd9f2-505c-4d61-93bb-903282c68eb9",
   "metadata": {},
   "source": [
    "## Select Stable (RLOF; CEE>MT == 0) or Unstable Mass Transfer (Common Envelope; CEE>MT == 1)"
   ]
  },
  {
   "cell_type": "code",
   "execution_count": 5,
   "id": "12b5e32d-73fe-490e-8d05-b6055b7e1dec",
   "metadata": {
    "tags": []
   },
   "outputs": [],
   "source": [
    "CE_wo_merger = CE[CE['Merger']==False]\n",
    "seed_CE_wo_merger_dropdup = np.unique(CE_wo_merger['SEED'])\n",
    "\n",
    "\n",
    "RLOF_BH_MT = RLOF_BH[RLOF_BH['CEE>MT']==0]\n",
    "RLOF_BH_CE_all = RLOF_BH[RLOF_BH['CEE>MT']==1]\n",
    "\n",
    "common_seeds_woCE = np.intersect1d(RLOF_BH_CE_all['SEED'], seed_CE_wo_merger_dropdup)\n",
    "mask = np.isin(RLOF_BH_CE_all['SEED'], common_seeds_woCE)\n",
    "RLOF_BH_CE = RLOF_BH_CE_all[mask]\n",
    "\n",
    "# # RLOF_BH_CE_all = join(RLOF_BH_CE_all, CE, keys='SEED', join_type='left')\n",
    "# # RLOF_BH_CE = RLOF_BH_CE_all[RLOF_BH_CE_all['Merger']==False]\n",
    "\n",
    "RLOF_NS_MT = RLOF_NS[RLOF_NS['CEE>MT']==0]\n",
    "RLOF_NS_CE_all = RLOF_NS[RLOF_NS['CEE>MT']==1]\n",
    "\n",
    "common_seeds_woCE = np.intersect1d(RLOF_NS_CE_all['SEED'], seed_CE_wo_merger_dropdup)\n",
    "mask = np.isin(RLOF_NS_CE_all['SEED'], common_seeds_woCE)\n",
    "RLOF_NS_CE = RLOF_NS_CE_all[mask]\n",
    "\n",
    "# RLOF_NS_CE_all = join(RLOF_NS_CE_all, CE, keys='SEED', join_type='left')\n",
    "# RLOF_NS_CE = RLOF_NS_CE_all[RLOF_NS_CE_all['Merger']==False]"
   ]
  },
  {
   "cell_type": "markdown",
   "id": "52faa641-250d-4778-97df-af139fe792ed",
   "metadata": {},
   "source": [
    "## Compute Typical Parameters\n",
    "\n",
    "### Timescale\n",
    "For stable mass transfer (Roche Lobe Overflow), we assume the accretion timescale ($t_{\\rm acc}$) as follows:\n",
    "$$\n",
    "t_{\\rm acc} \\approx t_{\\rm Thermal} = \\frac{GM^{2}}{2RL} \\approx 31 {\\rm ~[Myr]}\\left(\\frac{M}{M_{\\odot}}\\right)^{2}\\left(\\frac{R}{R_{\\odot}}\\right)^{-1}\\left(\\frac{L}{L_{\\odot}}\\right)^{-1},\n",
    "$$\n",
    "where $M$, $R$, and $L$ are the mass, radius, and luminosity of the donors before the mass transfer derived from COMPAS simulations, respectively.\n",
    "\n",
    "On the other hand, for unstable mass transfer (Common Envelope), we assume the accretion timescale as follows:\n",
    "$$\n",
    "t_{\\rm acc} \\approx 100\\times t_{\\rm Orbital} = 2\\pi\\sqrt{\\frac{a^{3}}{G(M_{1} + M_{2})}} \\approx 1.6 {\\rm ~[yr]}\\left(\\frac{a}{1000R_{\\odot}}\\right)^{3/2}\\left(\\frac{M_1+M_2}{40M_{\\odot}}\\right)^{-1/2}\n",
    "$$\n",
    "where $M_{1}$ and $M_{2}$ are the mass of primery and secondary stars before the mass transfer, respectively, and $a$ is the semi-major axis before the mass transfer.\n",
    "\n",
    "Note that other tyical timescales of binaries (dynamical timescale ($t_{\\rm dyn}$ and nuclear timescale ($t_{\\rm nuc}$)) are as follows:\n",
    "$$\n",
    "t_{\\rm dyn} = \\sqrt{\\frac{R^{3}}{2GM}} \\approx 10^{3} {\\rm ~[sec]}~ \n",
    "\\left(\\frac{R}{R_{\\odot}}\\right)^{3/2}\n",
    "\\left(\\frac{M}{M_{\\odot}}\\right)^{-1/2} \\\\\n",
    "t_{\\rm nuc, H} = \\frac{\\frac{\\eta X M}{4m_{p}} \\times \\Delta E_{4H\\to He}}{L} = 7{\\rm ~[Gyr]}~ \n",
    "\\left(\\frac{\\eta}{0.1}\\right)\n",
    "\\left(\\frac{X}{0.7}\\right)\n",
    "\\left(\\frac{M}{M_{\\odot}}\\right)\n",
    "\\left(\\frac{\\Delta E_{4H\\to He}}{26 {\\rm ~MeV}}\\right)\n",
    "$$\n",
    "\n",
    "### Accretion Rate\n",
    "The Eddington luminosity ($L_{\\rm Edd}$) is defined by the balance of the gravity force and radiation pressure:\n",
    "$$\n",
    "L_{\\rm Edd} = \\frac{4\\pi c GM m_{p}}{\\sigma_{\\rm T}} \\approx 1.2\\times 10^{38} {\\rm ~erg/s} \\left(\\frac{M}{M_{\\odot}}\\right),\n",
    "$$\n",
    "where, $c$ is the light speed, $G$ is the gravitional constant, $m_{p}$ is the proton mass, $\\sigma_{\\rm T}$ is the cross section of electron scattering, and $M$ is the BH mass.\n",
    "\n",
    "Then, the Eddington accretion rate is defined as follows:\n",
    "$$\n",
    "\\dot{M}_{\\rm Edd} \n",
    "= \\frac{L_{\\rm Edd}}{\\eta c^{2}} \n",
    "\\approx 1.3 \\times 10^{18}{\\rm ~g/s} \\left(\\frac{\\eta}{0.1}\\right)^{-1}\\left(\\frac{M}{M_{\\odot}}\\right)\n",
    "\\approx 2.2 \\times 10^{-8}{\\rm ~M_{\\odot}/yr} \\left(\\frac{\\eta}{0.1}\\right)^{-1}\\left(\\frac{M}{M_{\\odot}}\\right),\n",
    "$$\n",
    "where $\\eta$ is the energy conversion efficiency from the accretion rate to luminosity. Here, we assume $\\eta = 0.1$, i.e., 10%.\n",
    "\n",
    "Based on the COMPAS dataset, we defined the accreted mass ($M_{\\rm acc}$) from a donor to a compact object as follows:\n",
    "$$\n",
    "M_{\\rm acc} = (M_{\\rm donor,~before~MT} - M_{\\rm donor,~after~MT}),\n",
    "$$\n",
    "where, $M_{\\rm donor}$ and $M_{\\rm CO}$ are the masses of the donor and compact object, and the subscripts of 'before/after MT' mean before or after mass transfter.\n",
    "\n",
    "Finally, the accretion rate ($\\dot{M}$) is defined as follows:\n",
    "$$\n",
    "\\dot{M} = \\frac{\\dot{M}}{t_{\\rm acc}}, \n",
    "$$\n",
    "and the Eddington ratio ($R_{\\rm Edd}$) is described as follows:\n",
    "$$\n",
    "R_{\\rm Edd} = \\frac{\\dot{M}}{\\dot{M}_{\\rm Edd}}\n",
    "$$"
   ]
  },
  {
   "cell_type": "code",
   "execution_count": 6,
   "id": "6e022ce0-7973-4b70-9ffa-79631b8d0748",
   "metadata": {
    "tags": []
   },
   "outputs": [],
   "source": [
    "def calculate_kh_timescale(L, R, M):\n",
    "    return G*(M*Msun)**2 / ((L*Lsun)*(R*Rsun)) / Myr\n",
    "\n",
    "def calculate_dynamical_timescale(R, M):\n",
    "    return np.sqrt((R*Rsun)**3 / (2*G*(M*Msun))) / Myr\n",
    "\n",
    "def calculate_circulation_timescale(a, M1, M2):\n",
    "    return 2*np.pi*np.sqrt((a*Rsun)**3 / (G*((M1+M2)*Msun))) / Myr\n",
    "\n",
    "def calculate_eddington_ratio(MBH, M_acc, t, eta=0.1):\n",
    "    Mdot     = M_acc*Msun / (t*Myr)\n",
    "    L_edd    = 4*np.pi*G*mp*c*MBH*Msun/sigma_T\n",
    "    Mdot_edd = L_edd/(eta*c**2)\n",
    "    return Mdot/Mdot_edd"
   ]
  },
  {
   "cell_type": "code",
   "execution_count": 7,
   "id": "17983189-892d-4c23-8ccc-68c2985a5332",
   "metadata": {
    "tags": []
   },
   "outputs": [],
   "source": [
    "def calculate_parameters(data, CO_type=14, MT_types='RLOF'):\n",
    "    \n",
    "    data['Accreted_Mass'] = np.where(data['Stellar_Type(1)<MT']==CO_type,\n",
    "                                     (data['Mass(2)<MT']-data['Mass(2)>MT']), (data['Mass(1)<MT']-data['Mass(1)>MT']))\n",
    "    \n",
    "    data['Timescale_KH']  = np.where(data['Stellar_Type(1)<MT']==CO_type,\n",
    "                                     calculate_kh_timescale(data['Luminosity(2)'], data['Radius(2)<MT'], data['Mass(2)<MT']),\n",
    "                                     calculate_kh_timescale(data['Luminosity(1)'], data['Radius(1)<MT'], data['Mass(1)<MT']))\n",
    "    data['Timescale_Cic']  = calculate_circulation_timescale(data['SemiMajorAxis<MT'], data['Mass(1)<MT'], data['Mass(2)<MT'])\n",
    "    data['Timescale_dt']  = data['Time>MT'] - data['Time<MT']\n",
    "    \n",
    "    if MT_types == 'RLOF':\n",
    "        data['Timescale'] = data['Time>MT'] - data['Time<MT']\n",
    "        data['Eddington'] = np.where(data['Stellar_Type(1)<MT']==CO_type,\n",
    "                                     calculate_eddington_ratio(data['Mass(1)<MT'], data['Accreted_Mass'], data['Timescale']),\n",
    "                                     calculate_eddington_ratio(data['Mass(2)<MT'], data['Accreted_Mass'], data['Timescale']))\n",
    "    \n",
    "    elif MT_types == 'CE':\n",
    "        data['Timescale'] = 100*calculate_circulation_timescale(data['SemiMajorAxis<MT'], data['Mass(1)<MT'], data['Mass(2)<MT'])\n",
    "        data['Eddington'] = np.where(data['Stellar_Type(1)<MT']==CO_type,\n",
    "                                         calculate_eddington_ratio(data['Mass(1)<MT'], data['Accreted_Mass'], data['Timescale']),\n",
    "                                         calculate_eddington_ratio(data['Mass(2)<MT'], data['Accreted_Mass'], data['Timescale']))\n",
    "    \n",
    "    return data"
   ]
  },
  {
   "cell_type": "code",
   "execution_count": 12,
   "id": "2fe6dbe0-d60e-4f8c-8e1d-a997158db4b0",
   "metadata": {
    "tags": []
   },
   "outputs": [
    {
     "name": "stderr",
     "output_type": "stream",
     "text": [
      "/tmp/ipykernel_5365/4143798075.py:2: RuntimeWarning: divide by zero encountered in divide\n",
      "  return G*(M*Msun)**2 / ((L*Lsun)*(R*Rsun)) / Myr\n"
     ]
    }
   ],
   "source": [
    "RLOF_BH_MT = calculate_parameters(RLOF_BH_MT, CO_type=14, MT_types='RLOF')\n",
    "RLOF_BH_CE = calculate_parameters(RLOF_BH_CE, CO_type=14, MT_types='CE')\n",
    "\n",
    "RLOF_NS_MT = calculate_parameters(RLOF_NS_MT, CO_type=13, MT_types='RLOF')\n",
    "RLOF_NS_CE = calculate_parameters(RLOF_NS_CE, CO_type=13, MT_types='CE')"
   ]
  },
  {
   "cell_type": "markdown",
   "id": "48cfc5c3-1574-4915-a18e-f656278028fd",
   "metadata": {},
   "source": [
    "An Error Message will come up. This error is caused by L=0.0 in the calculation for the KH timescale. I will take this error into account later. See also following MEMO.\n",
    "\n",
    "\n",
    "##### MEMO\n",
    "\n",
    "In some Common Envelope cases, the luminosity of donors is zero in the original COMPAS output.\n",
    "This bug are occured in some AGB stars (Stellar Type = 5).<br>\n",
    "Thus, we drop the datasets including the bugs (Now, comment out)."
   ]
  },
  {
   "cell_type": "code",
   "execution_count": 13,
   "id": "7d263dff-4c4c-4bea-b0e4-715adbcff9d0",
   "metadata": {
    "tags": []
   },
   "outputs": [],
   "source": [
    "# RLOF_BH_CE = RLOF_BH_CE[np.isfinite(RLOF_BH_CE['Timescale'])]\n",
    "# RLOF_NS_CE = RLOF_NS_CE[np.isfinite(RLOF_NS_CE['Timescale'])]"
   ]
  },
  {
   "cell_type": "markdown",
   "id": "8e7b1492-9cc1-4385-92cb-cd41745c274c",
   "metadata": {},
   "source": [
    "## Select Super-Eddington Sysmtems ($\\dot{M}/\\dot{M}_{\\rm Edd} > 10 ~\\text{or}~ 100$)"
   ]
  },
  {
   "cell_type": "code",
   "execution_count": 14,
   "id": "ac51bc6c-8748-4748-8386-21daebeae8c2",
   "metadata": {
    "tags": []
   },
   "outputs": [],
   "source": [
    "def filter_eddington_ratio(data, Eddington_Min=100, Flag_All=False):\n",
    "    \n",
    "    if Flag_All==False:\n",
    "        data = data[data['Eddington']>Eddington_Min].group_by('SEED')\n",
    "        group_by_Eddington_Max = data['SEED', 'Eddington'].groups.aggregate(np.max)\n",
    "        data_Eddington = data[np.in1d(data['Eddington'], group_by_Eddington_Max['Eddington'])]\n",
    "    else:\n",
    "        data_Eddington = data[data['Eddington']>Eddington_Min]\n",
    "    \n",
    "    return data_Eddington"
   ]
  },
  {
   "cell_type": "code",
   "execution_count": 15,
   "id": "75d1ec83-86db-47ec-92df-d4a2358ec261",
   "metadata": {
    "tags": []
   },
   "outputs": [],
   "source": [
    "Edd_limit = 100\n",
    "RLOF_BH_MT_Edd = filter_eddington_ratio(RLOF_BH_MT, Eddington_Min=Edd_limit)\n",
    "RLOF_BH_CE_Edd = filter_eddington_ratio(RLOF_BH_CE, Eddington_Min=Edd_limit)\n",
    "\n",
    "RLOF_NS_MT_Edd = filter_eddington_ratio(RLOF_NS_MT, Eddington_Min=Edd_limit)\n",
    "RLOF_NS_CE_Edd = filter_eddington_ratio(RLOF_NS_CE, Eddington_Min=Edd_limit)"
   ]
  },
  {
   "cell_type": "markdown",
   "id": "35b3524e-34c6-493e-b7e3-c7ca8038152a",
   "metadata": {
    "tags": []
   },
   "source": [
    "## Check the dataset"
   ]
  },
  {
   "cell_type": "code",
   "execution_count": 16,
   "id": "d5d0b00b-f15f-460c-9f9c-cb1bc76141c7",
   "metadata": {
    "tags": []
   },
   "outputs": [],
   "source": [
    "def select_donors(data, CO_type=14):\n",
    "    \n",
    "    CO1_bool = (data['Stellar_Type(1)<MT'] == CO_type)\n",
    "    \n",
    "    Donor2 = data[CO1_bool]\n",
    "    Donor2_data = Donor2['SEED',\n",
    "                         'Mass(1)<MT', 'Mass(1)>MT',\n",
    "                         'Mass(2)<MT', 'Mass(2)>MT',\n",
    "                         'Stellar_Type(1)<MT', 'Stellar_Type(1)>MT', \n",
    "                         'Stellar_Type(2)<MT', 'Stellar_Type(2)>MT', \n",
    "                         'Radius(2)<MT', 'Radius(2)>MT',\n",
    "                         'Luminosity(2)', 'Teff(2)',\n",
    "                         'SemiMajorAxis<MT', 'SemiMajorAxis>MT', 'Time<MT', 'Time>MT',\n",
    "                         'Accreted_Mass', 'Timescale_KH', 'Timescale_Cic', 'Timescale_dt',\n",
    "                         'Timescale', 'Eddington']\n",
    "    Donor2_data.rename_column('Mass(1)<MT', 'Mass(A)<MT')\n",
    "    Donor2_data.rename_column('Mass(1)>MT', 'Mass(A)>MT')\n",
    "    Donor2_data.rename_column('Stellar_Type(1)<MT', 'Stellar_Type(A)<MT')\n",
    "    Donor2_data.rename_column('Stellar_Type(1)>MT', 'Stellar_Type(A)>MT')\n",
    "    Donor2_data.rename_column('Mass(2)<MT', 'Mass(D)<MT')\n",
    "    Donor2_data.rename_column('Mass(2)>MT', 'Mass(D)>MT')\n",
    "    Donor2_data.rename_column('Stellar_Type(2)<MT', 'Stellar_Type(D)<MT')\n",
    "    Donor2_data.rename_column('Stellar_Type(2)>MT', 'Stellar_Type(D)>MT')\n",
    "    Donor2_data.rename_column('Radius(2)<MT', 'Radius(D)<MT')\n",
    "    Donor2_data.rename_column('Radius(2)>MT', 'Radius(D)>MT')\n",
    "    Donor2_data.rename_column('Luminosity(2)', 'Luminosity(D)')\n",
    "    Donor2_data.rename_column('Teff(2)', 'Teff(D)')\n",
    "    \n",
    "    \n",
    "    CO2_bool = (data['Stellar_Type(2)<MT'] == CO_type)\n",
    "    Donor1 = data[CO2_bool]\n",
    "    Donor1_data = Donor1['SEED',\n",
    "                         'Mass(1)<MT', 'Mass(1)>MT',\n",
    "                         'Mass(2)<MT', 'Mass(2)>MT',\n",
    "                         'Stellar_Type(1)<MT', 'Stellar_Type(1)>MT', \n",
    "                         'Stellar_Type(2)<MT', 'Stellar_Type(2)>MT', \n",
    "                         'Radius(1)<MT', 'Radius(1)>MT',\n",
    "                         'Luminosity(1)', 'Teff(1)',\n",
    "                         'SemiMajorAxis<MT', 'SemiMajorAxis>MT', 'Time<MT', 'Time>MT',\n",
    "                         'Accreted_Mass', 'Timescale_KH', 'Timescale_Cic', 'Timescale_dt',\n",
    "                         'Timescale', 'Eddington']\n",
    "    Donor1_data.rename_column('Mass(2)<MT', 'Mass(A)<MT')\n",
    "    Donor1_data.rename_column('Mass(2)>MT', 'Mass(A)>MT')\n",
    "    Donor1_data.rename_column('Stellar_Type(2)<MT', 'Stellar_Type(A)<MT')\n",
    "    Donor1_data.rename_column('Stellar_Type(2)>MT', 'Stellar_Type(A)>MT')\n",
    "    Donor1_data.rename_column('Mass(1)<MT', 'Mass(D)<MT')\n",
    "    Donor1_data.rename_column('Mass(1)>MT', 'Mass(D)>MT')\n",
    "    Donor1_data.rename_column('Stellar_Type(1)<MT', 'Stellar_Type(D)<MT')\n",
    "    Donor1_data.rename_column('Stellar_Type(1)>MT', 'Stellar_Type(D)>MT')\n",
    "    Donor1_data.rename_column('Radius(1)<MT', 'Radius(D)<MT')\n",
    "    Donor1_data.rename_column('Radius(1)>MT', 'Radius(D)>MT')\n",
    "    Donor1_data.rename_column('Luminosity(1)', 'Luminosity(D)')\n",
    "    Donor1_data.rename_column('Teff(1)', 'Teff(D)')\n",
    "\n",
    "    return vstack([Donor2_data, Donor1_data])"
   ]
  },
  {
   "cell_type": "code",
   "execution_count": 17,
   "id": "2891f8fc-09aa-4534-99cb-90c525d5ca9c",
   "metadata": {
    "tags": []
   },
   "outputs": [],
   "source": [
    "MT_Edd = vstack([select_donors(RLOF_BH_MT_Edd, CO_type=14), select_donors(RLOF_NS_MT_Edd, CO_type=13)])\n",
    "CE_Edd = vstack([select_donors(RLOF_BH_CE_Edd, CO_type=14), select_donors(RLOF_NS_CE_Edd, CO_type=13)])"
   ]
  },
  {
   "cell_type": "markdown",
   "id": "5bcc34b6-7f6e-4903-a9c5-96f4587c017f",
   "metadata": {},
   "source": [
    "## Save the sampling data as mt_edd000/ce_edd000.pkl"
   ]
  },
  {
   "cell_type": "code",
   "execution_count": 18,
   "id": "1cfe2020-af43-440b-92f9-276374deb946",
   "metadata": {},
   "outputs": [],
   "source": [
    "pickle.dump(MT_Edd, open(f'./sampling_data/mt_edd{Edd_limit}.pkl','wb'), protocol=2)\n",
    "pickle.dump(CE_Edd, open(f'./sampling_data/ce_edd{Edd_limit}.pkl','wb'), protocol=2)"
   ]
  },
  {
   "cell_type": "code",
   "execution_count": null,
   "id": "c118ce6c-9372-4ba0-85b8-bb3a9ad76b42",
   "metadata": {},
   "outputs": [],
   "source": []
  },
  {
   "cell_type": "code",
   "execution_count": null,
   "id": "24e8e07a-e838-4433-adb3-8c73072f1327",
   "metadata": {},
   "outputs": [],
   "source": []
  }
 ],
 "metadata": {
  "kernelspec": {
   "display_name": "Python 3 (ipykernel)",
   "language": "python",
   "name": "python3"
  },
  "language_info": {
   "codemirror_mode": {
    "name": "ipython",
    "version": 3
   },
   "file_extension": ".py",
   "mimetype": "text/x-python",
   "name": "python",
   "nbconvert_exporter": "python",
   "pygments_lexer": "ipython3",
   "version": "3.10.11"
  }
 },
 "nbformat": 4,
 "nbformat_minor": 5
}
